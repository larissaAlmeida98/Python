{
  "nbformat": 4,
  "nbformat_minor": 0,
  "metadata": {
    "colab": {
      "provenance": [],
      "authorship_tag": "ABX9TyPlq1utLbKJZqkgflSAkPsd",
      "include_colab_link": true
    },
    "kernelspec": {
      "name": "python3",
      "display_name": "Python 3"
    },
    "language_info": {
      "name": "python"
    }
  },
  "cells": [
    {
      "cell_type": "markdown",
      "metadata": {
        "id": "view-in-github",
        "colab_type": "text"
      },
      "source": [
        "<a href=\"https://colab.research.google.com/github/larissaAlmeida98/Python/blob/main/FIM_Exercicio1_Estruturas_de_Repeticao_WHILE.ipynb\" target=\"_parent\"><img src=\"https://colab.research.google.com/assets/colab-badge.svg\" alt=\"Open In Colab\"/></a>"
      ]
    },
    {
      "cell_type": "markdown",
      "source": [
        "#Estruturas de Repetição - WHILE"
      ],
      "metadata": {
        "id": "p_zr_OrdgTwB"
      }
    },
    {
      "cell_type": "markdown",
      "source": [
        "1. Faça um programa que solicite ao usuário que informe a matrícula e as três notas de um conjunto de alunos. O programa deverá exibir a mensagem informando se o aluno foi aprovado (média maior ou igual a 70), exame (nota maior ou igual a 60 e menor que 70) ou reprovado (nota inferior a 60). O programa irá terminar quando o usuário informar uma matrícula negativa. "
      ],
      "metadata": {
        "id": "eQWk8l8kgNCB"
      }
    },
    {
      "cell_type": "code",
      "source": [
        "matricula = int(input('Digite a matrícula:'))\n",
        "\n",
        "while (matricula):\n",
        "  if (matricula < 0): \n",
        "   print('Matrícula inválida!')\n",
        "   print('Seção encerrada.')\n",
        "   break\n",
        "  elif(matricula > 0):\n",
        "   print('Matrícula válida:')\n",
        "\n",
        "  x = int(input('Digite a primeira nota:'))\n",
        "  y = int(input('Digite a segunda nota:'))\n",
        "  z = int(input('Digite a terceira nota:'))\n",
        "  w = (x + y + z)/3\n",
        "  print('Média das notas = %.2f' %(w))\n",
        "\n",
        "  w = (x + y + z)/3\n",
        "  if (w >=70):\n",
        "   print('Aprovado')\n",
        "  elif(60 <= w < 70):\n",
        "    print('Exame')\n",
        "  else:\n",
        "    print('Reprovado')\n",
        "  break"
      ],
      "metadata": {
        "colab": {
          "base_uri": "https://localhost:8080/"
        },
        "id": "tT7JUaHhlJD4",
        "outputId": "3d624ac8-1eff-4855-da28-8ae71f9a69b0"
      },
      "execution_count": null,
      "outputs": [
        {
          "output_type": "stream",
          "name": "stdout",
          "text": [
            "Digite a matrícula:123\n",
            "Matrícula válida:\n",
            "Digite a primeira nota:60\n",
            "Digite a segunda nota:70\n",
            "Digite a terceira nota:75\n",
            "Média das notas = 68.33\n",
            "Exame\n"
          ]
        }
      ]
    },
    {
      "cell_type": "markdown",
      "source": [
        "2. Leia a idade de um número indeterminado de pessoas. Imprima:\n",
        "- Quantas pessoas possuem idade acima de 50 anos\n",
        "- A média de idade das pessoas\n",
        "- O percentual de pessoas com idade abaixo de 40 anos.\n",
        "\n",
        "A leitura será encerrada quando o usuário informar uma idade negativa."
      ],
      "metadata": {
        "id": "zvvybgmLtQJR"
      }
    },
    {
      "cell_type": "code",
      "source": [
        "idades = []\n",
        "idade = int(input(\"Digite a idade da primeira pessoa: \"))\n",
        "\n",
        "while idade >= 0:\n",
        "    idades.append(idade)\n",
        "    idade = int(input(\"Digite a idade da próxima pessoa: \"))\n",
        "\n",
        "acima_de_50 = sum(1 for idade in idades if idade > 50)\n",
        "print(\"Existe {} pessoas com idade acima de 50 anos\".format(acima_de_50))\n",
        "\n",
        "media = print(\"A média de idade das pessoas é de {} anos\".format(sum(idades) / len(idades)))\n",
        "\n",
        "menos_de_40 = sum(1 for idade in idades if idade < 40) / len(idades) * 100\n",
        "print(\"Existe {}% de pessoas com idade abaixo de 40 anos\".format(menos_de_40))\n",
        "\n"
      ],
      "metadata": {
        "id": "uuj2rdvr3zz7",
        "colab": {
          "base_uri": "https://localhost:8080/"
        },
        "outputId": "94994194-c16f-43f5-e853-00b944724078"
      },
      "execution_count": null,
      "outputs": [
        {
          "output_type": "stream",
          "name": "stdout",
          "text": [
            "Digite a idade da primeira pessoa: 55\n",
            "Digite a idade da próxima pessoa: 55\n",
            "Digite a idade da próxima pessoa: 34\n",
            "Digite a idade da próxima pessoa: 34\n",
            "Digite a idade da próxima pessoa: -4\n",
            "Existe 2 pessoas com idade acima de 50 anos\n",
            "A média de idade das pessoas é de 44.5 anos\n",
            "Existe 50.0% de pessoas com idade abaixo de 40 anos\n"
          ]
        }
      ]
    },
    {
      "cell_type": "markdown",
      "source": [
        "4. A prefeitura de uma cidade fez uma pesquisa entre os seus habitantes,coletando dados sobre o salário e o número de filhos. A prefeitura deseja saber:\n",
        "\n",
        "a ) A média do salário da população;\n",
        "\n",
        "b ) A média do número de filhos.\n",
        "\n",
        "O final da leitura de dados dar-se-á com a entrada de salários negativos.\n"
      ],
      "metadata": {
        "id": "3zUT_tgAyedc"
      }
    },
    {
      "cell_type": "code",
      "source": [
        "salarios = []\n",
        "num_filhos = []\n",
        "\n",
        "while True:\n",
        "    salario = float(input(\"Digite o salário: R$ \"))\n",
        "    if salario < 0:\n",
        "        break\n",
        "    num_filho = int(input(\"Digite o número de filhos: \"))\n",
        "    salarios.append(salario)\n",
        "    num_filhos.append(num_filho)\n",
        "\n",
        "if salarios == 0:\n",
        "    print(\"Não foram informados salários.\")\n",
        "else:\n",
        "    print(\"A média salarial é de R$ {:.2f} \".format(sum(salarios) / len(salarios)))\n",
        "\n",
        "if num_filhos == 0:\n",
        "    print(\"Não foram informados números de filhos.\")\n",
        "else:\n",
        "  print(\"A média do número de filhos é {:.2f}.\".format(sum(num_filhos) / len(num_filhos)))"
      ],
      "metadata": {
        "colab": {
          "base_uri": "https://localhost:8080/"
        },
        "id": "89kf1XfS0OlL",
        "outputId": "1284014c-9236-4c6c-f4c7-cae497e1cab2"
      },
      "execution_count": null,
      "outputs": [
        {
          "output_type": "stream",
          "name": "stdout",
          "text": [
            "Digite o salário: R$ 1200\n",
            "Digite o número de filhos: 1\n",
            "Digite o salário: R$ 1300\n",
            "Digite o número de filhos: 2\n",
            "Digite o salário: R$ -1200\n",
            "A média salarial é de R$ 1250.00 \n",
            "A média do número de filhos é 1.50.\n"
          ]
        }
      ]
    },
    {
      "cell_type": "code",
      "source": [],
      "metadata": {
        "id": "bdIEp9VE0PIm"
      },
      "execution_count": null,
      "outputs": []
    }
  ]
}