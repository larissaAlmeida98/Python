{
  "nbformat": 4,
  "nbformat_minor": 0,
  "metadata": {
    "colab": {
      "provenance": [],
      "authorship_tag": "ABX9TyOEJd/S0RsyNxCmnOiV9kYn",
      "include_colab_link": true
    },
    "kernelspec": {
      "name": "python3",
      "display_name": "Python 3"
    },
    "language_info": {
      "name": "python"
    }
  },
  "cells": [
    {
      "cell_type": "markdown",
      "metadata": {
        "id": "view-in-github",
        "colab_type": "text"
      },
      "source": [
        "<a href=\"https://colab.research.google.com/github/larissaAlmeida98/Python/blob/main/FIM_Exerc%C3%ADcios3_Estruturas_de_Dados_Tupla_Dicion%C3%A1rio_Conjunto.ipynb\" target=\"_parent\"><img src=\"https://colab.research.google.com/assets/colab-badge.svg\" alt=\"Open In Colab\"/></a>"
      ]
    },
    {
      "cell_type": "markdown",
      "source": [
        "1. Crie uma tupla contendo 10 valores determinados por você. Solicite em seguida que o usuário informe um valor. Informe quantas vezes o valor se encontra na tupla. Caso não se encontre, emita uma mensagem informando."
      ],
      "metadata": {
        "id": "OmXrPnHLUH4M"
      }
    },
    {
      "cell_type": "code",
      "execution_count": null,
      "metadata": {
        "id": "Q6x9ZMsnv1Pk",
        "colab": {
          "base_uri": "https://localhost:8080/"
        },
        "outputId": "12f42b88-949b-4f9c-c8ca-dd9a16c3e306"
      },
      "outputs": [
        {
          "output_type": "stream",
          "name": "stdout",
          "text": [
            "Digite um número: 4\n",
            "O valor 4 teve 2 repetições\n"
          ]
        }
      ],
      "source": [
        "tupla = (1, 14, 7, 4, 8, 11, 18, 4, 3, 15)\n",
        "\n",
        "valor = int(input('Digite um número: '))\n",
        "ocorrencias = tupla.count(valor)\n",
        "\n",
        "if ocorrencias == 0:\n",
        "  print('Valor não encontrado na tupla')\n",
        "elif ocorrencias == 1:\n",
        "  print(f'O valor {valor} teve {ocorrencias} repetição')\n",
        "else:\n",
        "  print(f'O valor {valor} teve {ocorrencias} repetições')"
      ]
    },
    {
      "cell_type": "markdown",
      "source": [
        "2. Leia a matrícula e a nota de 5 alunos da disciplina Python para Engenharia de Dados.\n",
        "Armazene-os em um dicionário. Imprima:\n",
        "a. A média das notas\n",
        " b. O(s) aluno(s) que obtiveram a maior nota\n",
        "c. O(s) aluno(s) que obtiveram a menor nota"
      ],
      "metadata": {
        "id": "AsHp50DGj0iR"
      }
    },
    {
      "cell_type": "code",
      "source": [
        "notas = {5401: 6.7, 5402: 8.5, 5403: 7.3, 5404: 9.6, 5405: 8.2}\n",
        "\n",
        "for matricula in notas:\n",
        "  print('Matrícula:', matricula, 'Nota: ', notas[matricula])\n",
        "\n",
        "notas2 = notas.values()\n",
        "media = sum(notas2) / len(notas2)\n",
        "\n",
        "maior_nota = max(notas.values())\n",
        "menor_nota = min(notas.values())\n",
        "\n",
        "print('Média das notas: %.2f' %(media))\n",
        "print('Maior nota: ',maior_nota)\n",
        "print('Menor nota: ',menor_nota)"
      ],
      "metadata": {
        "colab": {
          "base_uri": "https://localhost:8080/"
        },
        "id": "PxRLN0SVl2Ct",
        "outputId": "5b7c617f-3992-45a5-fe72-dee2acdc75cd"
      },
      "execution_count": null,
      "outputs": [
        {
          "output_type": "stream",
          "name": "stdout",
          "text": [
            "Matrícula: 5401 Nota:  6.7\n",
            "Matrícula: 5402 Nota:  8.5\n",
            "Matrícula: 5403 Nota:  7.3\n",
            "Matrícula: 5404 Nota:  9.6\n",
            "Matrícula: 5405 Nota:  8.2\n",
            "Média das notas: 8.06\n",
            "Maior nota:  9.6\n",
            "Menor nota:  6.7\n"
          ]
        }
      ]
    },
    {
      "cell_type": "markdown",
      "source": [
        "4. Crie uma lista contendo 4 objetos:\n",
        " a. Primeiro objeto: Lista contendo os nomes dos dias da semana\n",
        "b. Segundo objeto: Uma tupla contendo 3 valores definidos por você\n",
        "c. Terceiro objeto: Um dicionário contendo 3 pares chave-valor definidos por você\n",
        " d. Quarto objeto: Um número inteiro\n",
        " Imprima a lista na tela.\n",
        " Através da variável da lista, imprima o dia Domingo contido na lista.\n",
        " Imprima também o segundo par CHAVE-VALOR do dicionário armazenado na lista"
      ],
      "metadata": {
        "id": "sYMTQ4X4F4RQ"
      }
    },
    {
      "cell_type": "code",
      "source": [
        "lista = [['Segunda', 'Terca', 'Quarta', 'Quinta', 'Sexta', 'Sabado', 'Domingo'], (12, 30, 4),{'Maria': 7.8, 'José': 9.6, 'Ana': 6.3}, 9]\n",
        "\n",
        "print(lista)\n",
        "print(lista[0][-1])\n",
        "print(list(lista[2].items())[1])"
      ],
      "metadata": {
        "id": "qkMqmZ1Ltfjt",
        "colab": {
          "base_uri": "https://localhost:8080/"
        },
        "outputId": "e305ffd4-5852-43c9-bf8e-578e8a2cb849"
      },
      "execution_count": null,
      "outputs": [
        {
          "output_type": "stream",
          "name": "stdout",
          "text": [
            "[['Segunda', 'Terca', 'Quarta', 'Quinta', 'Sexta', 'Sabado', 'Domingo'], (12, 30, 4), {'Maria': 7.8, 'José': 9.6, 'Ana': 6.3}, 9]\n",
            "Domingo\n",
            "('José', 9.6)\n"
          ]
        }
      ]
    },
    {
      "cell_type": "markdown",
      "source": [
        "#### 5. Acesse o conteúdo JSON disponível em https://jsonplaceholder.typicode.com/posts e o armazene em uma lista Python. Baseado nesses dados, imprima na tela os títulos e os posts somente do usuário de userId = 10.\n"
      ],
      "metadata": {
        "id": "WnHHupqwgtML"
      }
    },
    {
      "cell_type": "code",
      "source": [
        "import requests\n",
        "\n",
        "url = 'https://jsonplaceholder.typicode.com/posts'\n",
        "response = requests.get(url)\n",
        "\n",
        "if response.status_code == 200:\n",
        "    data = response.json()\n",
        "    user_10_titles = []\n",
        "    user_10_posts = []\n",
        "\n",
        "    for item in data:\n",
        "        if item['userId'] == 10:\n",
        "            user_10_titles.append(item['title'])\n",
        "            user_10_posts.append(item['body'])\n",
        "\n",
        "    print(\"Títulos do usuário de userId = 10:\")\n",
        "    for title in user_10_titles:\n",
        "        print(title)\n",
        "    \n",
        "    print(\"\\nPosts do usuário de userId = 10:\")\n",
        "    for post in user_10_posts:\n",
        "        print(post)\n"
      ],
      "metadata": {
        "id": "UvZC2RY0jRwW",
        "colab": {
          "base_uri": "https://localhost:8080/"
        },
        "outputId": "8ee37072-cd58-41cd-f26a-843ec8865537"
      },
      "execution_count": 9,
      "outputs": [
        {
          "output_type": "stream",
          "name": "stdout",
          "text": [
            "Títulos do usuário de userId = 10:\n",
            "aut amet sed\n",
            "ratione ex tenetur perferendis\n",
            "beatae soluta recusandae\n",
            "qui qui voluptates illo iste minima\n",
            "id minus libero illum nam ad officiis\n",
            "quaerat velit veniam amet cupiditate aut numquam ut sequi\n",
            "quas fugiat ut perspiciatis vero provident\n",
            "laboriosam dolor voluptates\n",
            "temporibus sit alias delectus eligendi possimus magni\n",
            "at nam consequatur ea labore ea harum\n",
            "\n",
            "Posts do usuário de userId = 10:\n",
            "libero voluptate eveniet aperiam sed\n",
            "sunt placeat suscipit molestias\n",
            "similique fugit nam natus\n",
            "expedita consequatur consequatur dolores quia eos et placeat\n",
            "aut et excepturi dicta laudantium sint rerum nihil\n",
            "laudantium et at\n",
            "a neque minima officia et similique libero et\n",
            "commodi voluptate qui\n",
            "dolorem quibusdam ducimus consequuntur dicta aut quo laboriosam\n",
            "voluptatem quis enim recusandae ut sed sunt\n",
            "nostrum est odit totam\n",
            "sit error sed sunt eveniet provident qui nulla\n",
            "aspernatur expedita soluta quo ab ut similique\n",
            "expedita dolores amet\n",
            "sed temporibus distinctio magnam saepe deleniti\n",
            "omnis facilis nam ipsum natus sint similique omnis\n",
            "earum voluptatem facere provident blanditiis velit laboriosam\n",
            "pariatur accusamus odio saepe\n",
            "cumque dolor qui a dicta ab doloribus consequatur omnis\n",
            "corporis cupiditate eaque assumenda ad nesciunt\n",
            "in non odio excepturi sint eum\n",
            "labore voluptates vitae quia qui et\n",
            "inventore itaque rerum\n",
            "veniam non exercitationem delectus aut\n",
            "eum non blanditiis soluta porro quibusdam voluptas\n",
            "vel voluptatem qui placeat dolores qui velit aut\n",
            "vel inventore aut cumque culpa explicabo aliquid at\n",
            "perspiciatis est et voluptatem dignissimos dolor itaque sit nam\n",
            "doloremque ex facilis sit sint culpa\n",
            "soluta assumenda eligendi non ut eius\n",
            "sequi ducimus vel quasi\n",
            "veritatis est dolores\n",
            "quo deleniti praesentium dicta non quod\n",
            "aut est molestias\n",
            "molestias et officia quis nihil\n",
            "itaque dolorem quia\n",
            "cupiditate quo est a modi nesciunt soluta\n",
            "ipsa voluptas error itaque dicta in\n",
            "autem qui minus magnam et distinctio eum\n",
            "accusamus ratione error aut\n"
          ]
        }
      ]
    },
    {
      "cell_type": "code",
      "source": [],
      "metadata": {
        "id": "JHVTW95AlaWC"
      },
      "execution_count": null,
      "outputs": []
    }
  ]
}