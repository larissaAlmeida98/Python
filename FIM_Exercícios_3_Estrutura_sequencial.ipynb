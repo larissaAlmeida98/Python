{
  "nbformat": 4,
  "nbformat_minor": 0,
  "metadata": {
    "colab": {
      "provenance": [],
      "authorship_tag": "ABX9TyOTyhrDTExUv1aOOND0i8FH",
      "include_colab_link": true
    },
    "kernelspec": {
      "name": "python3",
      "display_name": "Python 3"
    },
    "language_info": {
      "name": "python"
    }
  },
  "cells": [
    {
      "cell_type": "markdown",
      "metadata": {
        "id": "view-in-github",
        "colab_type": "text"
      },
      "source": [
        "<a href=\"https://colab.research.google.com/github/larissaAlmeida98/Python/blob/main/FIM_Exerc%C3%ADcios_3_Estrutura_sequencial.ipynb\" target=\"_parent\"><img src=\"https://colab.research.google.com/assets/colab-badge.svg\" alt=\"Open In Colab\"/></a>"
      ]
    },
    {
      "cell_type": "markdown",
      "source": [
        "#Estrutura Sequencial"
      ],
      "metadata": {
        "id": "iz9WMXLFqTnz"
      }
    },
    {
      "cell_type": "markdown",
      "source": [
        "#### 1. Leia três números inteiros e imprima a média aritmética entre esses números."
      ],
      "metadata": {
        "id": "8toZvxacOH5G"
      }
    },
    {
      "cell_type": "code",
      "execution_count": null,
      "metadata": {
        "colab": {
          "base_uri": "https://localhost:8080/"
        },
        "id": "v3tffcSINxjD",
        "outputId": "0ffc6996-1757-42bd-ac6c-b5e5339aaedd"
      },
      "outputs": [
        {
          "output_type": "stream",
          "name": "stdout",
          "text": [
            "Digite o primeiro número:10\n",
            "Digite o segundo número:30\n",
            "Digite o terceiro número:40\n",
            "Média = 26.7\n"
          ]
        }
      ],
      "source": [
        "x = int(input(\"Digite o primeiro número:\"))\n",
        "y = int(input(\"Digite o segundo número:\"))\n",
        "z = int(input('Digite o terceiro número:'))\n",
        "w = (x + y + z)/3\n",
        "print('Média = %.1f' %(w))"
      ]
    },
    {
      "cell_type": "markdown",
      "source": [
        "#### 2. Faça um programa que receba o ano de nascimento de uma pessoa, o ano atual e imprima:\n",
        "#### a. A idade da pessoa no ano atual\n",
        "#### b. A idade que a pessoa terá em 2050\n"
      ],
      "metadata": {
        "id": "yDzDFpVjPZnG"
      }
    },
    {
      "cell_type": "code",
      "source": [
        "data_nascimento = int(input('Ano de nascimento:'))\n",
        "ano_atual = int(input('Ano atual:'))\n",
        "idade = ano_atual - data_nascimento\n",
        "print('Sua idade é de ', idade, 'anos')\n",
        "\n",
        "idade2 = 2050 - data_nascimento\n",
        "print('Sua idade em 2050 será de', idade2, 'anos')\n"
      ],
      "metadata": {
        "id": "Hfkt9cy3PdJd",
        "colab": {
          "base_uri": "https://localhost:8080/"
        },
        "outputId": "1fea3adb-1baf-4efa-a4b4-92ca79b14664"
      },
      "execution_count": null,
      "outputs": [
        {
          "output_type": "stream",
          "name": "stdout",
          "text": [
            "Ano de nascimento:1998\n",
            "Ano atual:2023\n",
            "Sua idade é de  25 anos\n",
            "Sua idade em 2050 será de 52 anos\n"
          ]
        }
      ]
    },
    {
      "cell_type": "markdown",
      "source": [
        "#### 3. Faça um programa que solicite ao usuário que informe os coeficientes a, b e c de uma equação de segundo grau, e que imprima as raízes desta equação (considere que os valores informados sempre retornarão raízes reais para a equação)."
      ],
      "metadata": {
        "id": "JhgK6JwOsO4N"
      }
    },
    {
      "cell_type": "code",
      "source": [
        "print('Equação de segundo grau: ax²+ bx + c = 0')\n",
        "a = int(input('Digite o valor de a: '))\n",
        "b = int(input('Digite o valor de b: '))\n",
        "c = int(input('Digite o valor de c: '))\n",
        "\n",
        "delta = b**2 - 4*a*c\n",
        "if(delta != 0):\n",
        "  print('O valor de delta é: ', delta)\n",
        "  print('Não é uma raiz real!')\n",
        "elif(delta == 0):\n",
        "  print('É uma raiz real!')\n",
        "  print('O valor de delta é: ', delta)\n",
        "\n",
        "raiz1 = (-b - delta) / (2 * a)\n",
        "raiz2 = (-b + delta) / (2 * a)\n",
        "print('O valor da Raiz 1 é %.0f' %(raiz1))\n",
        "print('O valor da Raiz 2 é %.0f' %(raiz2))"
      ],
      "metadata": {
        "colab": {
          "base_uri": "https://localhost:8080/"
        },
        "id": "CiwtEo7Rr3Xy",
        "outputId": "69839f5a-58c4-4173-952c-4bb2709af409"
      },
      "execution_count": null,
      "outputs": [
        {
          "output_type": "stream",
          "name": "stdout",
          "text": [
            "Equação de segundo grau: ax²+ bx + c = 0\n",
            "Digite o valor de a: 1\n",
            "Digite o valor de b: 4\n",
            "Digite o valor de c: 2\n",
            "O valor de delta é:  8\n",
            "Não é uma raiz real!\n",
            "O valor da Raiz 1 é -6\n",
            "O valor da Raiz 2 é 2\n"
          ]
        }
      ]
    },
    {
      "cell_type": "markdown",
      "source": [
        "#### 4. Leia um número e imprima a tabuada de multiplicar deste número."
      ],
      "metadata": {
        "id": "CDiBolPpzX4T"
      }
    },
    {
      "cell_type": "code",
      "source": [
        "numero = int(input('Digite um número:'))\n",
        "print('{} x {} = {}'.format(numero, 1, numero*1))\n",
        "print('{} x {} = {}'.format(numero, 2, numero*2))\n",
        "print('{} x {} = {}'.format(numero, 3, numero*3))\n",
        "print('{} x {} = {}'.format(numero, 4, numero*4))\n",
        "print('{} x {} = {}'.format(numero, 5, numero*5))\n",
        "print('{} x {} = {}'.format(numero, 6, numero*6))\n",
        "print('{} x {} = {}'.format(numero, 7, numero*7))\n",
        "print('{} x {} = {}'.format(numero, 8, numero*8))\n",
        "print('{} x {} = {}'.format(numero, 9, numero*9))\n",
        "print('{} x {} = {}'.format(numero, 10, numero*10))\n"
      ],
      "metadata": {
        "colab": {
          "base_uri": "https://localhost:8080/"
        },
        "id": "yBS-06tfzgKx",
        "outputId": "233c22ba-2f91-462b-8d4e-553b05eb346b"
      },
      "execution_count": null,
      "outputs": [
        {
          "output_type": "stream",
          "name": "stdout",
          "text": [
            "Digite um número:5\n",
            "5 x 1 = 5\n",
            "5 x 2 = 10\n",
            "5 x 3 = 15\n",
            "5 x 4 = 20\n",
            "5 x 5 = 25\n",
            "5 x 6 = 30\n",
            "5 x 7 = 35\n",
            "5 x 8 = 40\n",
            "5 x 9 = 45\n",
            "5 x 10 = 50\n"
          ]
        }
      ]
    },
    {
      "cell_type": "markdown",
      "source": [
        "#### 5. Receba um número positivo, calcule e mostre:\n",
        "#### a. O número digitado ao quadrado\n",
        "#### b. O número digitado ao cubo\n",
        "#### c. A raiz quadrada do número digitado\n",
        "#### d. A raiz cúbica do número digitado"
      ],
      "metadata": {
        "id": "vXg3rxap3DoI"
      }
    },
    {
      "cell_type": "code",
      "source": [
        "import math\n",
        "numero = int(input('Digite um número positivo: '))\n",
        "\n",
        "a = numero ** 2 \n",
        "b = numero ** 3 \n",
        "c = numero ** (1/2)  \n",
        "d = numero ** (1/3) \n",
        "  \n",
        "print('O valor de', numero ,'ao quadrado é igual a', a)\n",
        "print('O valor de ', numero ,' ao cubo é igual a', b)\n",
        "print('O valor da raiz quadrada de ', numero ,' é %.2f' %(c)) \n",
        "print('O valor da raiz cúbica de ', numero ,' é %.2f' %(d))"
      ],
      "metadata": {
        "colab": {
          "base_uri": "https://localhost:8080/"
        },
        "id": "_YcT1cP81MlJ",
        "outputId": "02a3e108-f32f-49cb-e3a9-4ab5d5994872"
      },
      "execution_count": null,
      "outputs": [
        {
          "output_type": "stream",
          "name": "stdout",
          "text": [
            "Digite um número positivo: 8\n",
            "O valor de 8 ao quadrado é igual a 64\n",
            "O valor de  8  ao cubo é igual a 512\n",
            "O valor da raiz quadrada de  8  é 2.83\n",
            "O valor da raiz cúbica de  8  é 2.00\n"
          ]
        }
      ]
    },
    {
      "cell_type": "markdown",
      "source": [
        "#### 6. Todo restaurante, embora por lei não possa obrigar o cliente a pagar, cobra 10% para o garçom. Faça um programa que leia o valor gasto pelo cliente e informe o valor a ser pago de gorjeta."
      ],
      "metadata": {
        "id": "ju8FjSh8D6ri"
      }
    },
    {
      "cell_type": "code",
      "source": [
        "conta = float(input('Digite o valor da sua conta: '))\n",
        "print('Conta: R$', conta)\n",
        "\n",
        "gorjeta = conta * 0.1\n",
        "print('Gorjeta: R$ é %.2f' %(gorjeta))"
      ],
      "metadata": {
        "colab": {
          "base_uri": "https://localhost:8080/"
        },
        "id": "aLqr5hh3EAXn",
        "outputId": "f7bc9186-b76c-48c1-8289-6f28e59bb262"
      },
      "execution_count": null,
      "outputs": [
        {
          "output_type": "stream",
          "name": "stdout",
          "text": [
            "Digite o valor da sua conta: 248.67\n",
            "Conta: R$ 248.67\n",
            "Gorjeta: R$ é 24.87\n"
          ]
        }
      ]
    },
    {
      "cell_type": "markdown",
      "source": [
        "#### 7. Faça um programa que receba um número inteiro e que imprima o antecessor, o sucessor, o dobro e a metade do número informado"
      ],
      "metadata": {
        "id": "Doh_iujtFI4q"
      }
    },
    {
      "cell_type": "code",
      "source": [
        "numero = int(input('Digite um número inteiro: '))\n",
        "\n",
        "a = numero - 1\n",
        "b = numero + 1\n",
        "c = numero * 2\n",
        "d = numero / 2\n",
        "\n",
        "print('O número antes de', numero, 'é', a)\n",
        "print('O número depois de', numero, 'é', b)\n",
        "print('O dobro de', numero, 'é', c)\n",
        "print('A metade de', numero, 'é', d)"
      ],
      "metadata": {
        "colab": {
          "base_uri": "https://localhost:8080/"
        },
        "id": "C6K75o92EKY-",
        "outputId": "3c5c75bd-9df6-4b7a-a42c-672bff01db59"
      },
      "execution_count": null,
      "outputs": [
        {
          "output_type": "stream",
          "name": "stdout",
          "text": [
            "Digite um número inteiro: 3\n",
            "O número antes de 3 é 2\n",
            "O número depois de 3 é 4\n",
            "O dobro de 3 é 6\n",
            "A metade de 3 é 1.5\n"
          ]
        }
      ]
    },
    {
      "cell_type": "markdown",
      "source": [
        "#### 8. Faça um programa que, tendo como dados de entrada a altura (H - em metros) de um homem, calcule e apresente seu peso ideal utilizando a seguinte fórmula:\n",
        "#### Peso ideal (P) = (72,7 * H) – 58"
      ],
      "metadata": {
        "id": "2MbFLLKsGriP"
      }
    },
    {
      "cell_type": "code",
      "source": [
        "altura = float(input('informe sua altura: '))\n",
        "\n",
        "P = (72.7 * altura) - 58\n",
        "\n",
        "print('Seu peso ideal é %.2f' %(P),'kg')"
      ],
      "metadata": {
        "colab": {
          "base_uri": "https://localhost:8080/"
        },
        "id": "VpyVBNYfGBrS",
        "outputId": "4123622d-8b98-42f6-a4a3-3444fddd4a20"
      },
      "execution_count": null,
      "outputs": [
        {
          "output_type": "stream",
          "name": "stdout",
          "text": [
            "informe sua altura: 1.75\n",
            "Seu peso ideal é 69.23 kg\n"
          ]
        }
      ]
    },
    {
      "cell_type": "markdown",
      "source": [
        "#### 9. Faça o mesmo programa do item anterior, utilizando a fórmula para o cálculo do peso ideal para mulheres:\n",
        "#### Peso ideal (P) = (62,1 * H) – 44,7"
      ],
      "metadata": {
        "id": "9IhlnWocHsri"
      }
    },
    {
      "cell_type": "code",
      "source": [
        "altura = float(input('informe sua altura: '))\n",
        "\n",
        "P = (62.1 * altura) - 44.7\n",
        "\n",
        "print('Seu peso ideal é %.2f' %(P),'kg')"
      ],
      "metadata": {
        "colab": {
          "base_uri": "https://localhost:8080/"
        },
        "id": "DwoVRQkgHHNS",
        "outputId": "2f8043e0-e06d-41e3-a2af-f58ed65fa591"
      },
      "execution_count": null,
      "outputs": [
        {
          "output_type": "stream",
          "name": "stdout",
          "text": [
            "informe sua altura: 1.65\n",
            "Seu peso ideal é 57.77 kg\n"
          ]
        }
      ]
    },
    {
      "cell_type": "markdown",
      "source": [
        "#### 10. Faça um programa que leia duas variáveis e troque o conteúdo dessas duas variáveis. Em seguida, imprima o valor dessas variáveis invertido.\n",
        "#### Exemplo: A = 7, B = 9. Saída: A = 9, B = 7."
      ],
      "metadata": {
        "id": "sP-d52uuH3lu"
      }
    },
    {
      "cell_type": "code",
      "source": [
        "A = 7\n",
        "B = 9\n",
        "X = A\n",
        "A = B\n",
        "B = X\n",
        "\n",
        "print('A = ',A)\n",
        "print('B = ', B)\n"
      ],
      "metadata": {
        "colab": {
          "base_uri": "https://localhost:8080/"
        },
        "id": "HYDjPtWcH0RY",
        "outputId": "f6dcb795-14a0-477a-c910-023a10d046b6"
      },
      "execution_count": null,
      "outputs": [
        {
          "output_type": "stream",
          "name": "stdout",
          "text": [
            "A =  9\n",
            "B =  7\n"
          ]
        }
      ]
    },
    {
      "cell_type": "markdown",
      "source": [
        "#### 11. Considerando uma eleição de apenas dois candidatos, faça um programa que leia o número total de eleitores, o número de votos do primeiro candidato e o número de votos do segundo candidato. Em seguida, o programa deverá apresentar o percentual de votos de cada um dos candidatos e o percentual de votos nulos."
      ],
      "metadata": {
        "id": "y8OK-95IMYn2"
      }
    },
    {
      "cell_type": "code",
      "source": [
        "candidatos = 2\n",
        "eleitores = 100\n",
        "votos_candidato1 = 50\n",
        "votos_candidato2 = 45\n",
        "votos_nulos = eleitores - (votos_candidato1 + votos_candidato2)\n",
        "\n",
        "Percentual_condidato1 = (votos_candidato1 * 100) / eleitores\n",
        "Percentual_condidato2 = (votos_candidato2 * 100) / eleitores\n",
        "Percentual_nulos = (votos_nulos * 100) / eleitores\n",
        "\n",
        "print('O percentual de votos no Canditado 1 é de %.2f' %(Percentual_condidato1),'%')\n",
        "print('O percentual de votos no Canditado 2 é de %.2f' %(Percentual_condidato2),'%')\n",
        "print('O percentual de votos nulos é de %.2f' %(Percentual_nulos),'%')"
      ],
      "metadata": {
        "colab": {
          "base_uri": "https://localhost:8080/"
        },
        "id": "Mzdpvi33MHWa",
        "outputId": "115e8080-92dd-4201-ac57-71ed55a42c98"
      },
      "execution_count": null,
      "outputs": [
        {
          "output_type": "stream",
          "name": "stdout",
          "text": [
            "O percentual de votos no Canditado 1 é de 50.00 %\n",
            "O percentual de votos no Canditado 2 é de 45.00 %\n",
            "O percentual de votos nulos é de 5.00 %\n"
          ]
        }
      ]
    },
    {
      "cell_type": "code",
      "source": [],
      "metadata": {
        "id": "74Se1okQP7Fj"
      },
      "execution_count": null,
      "outputs": []
    }
  ]
}