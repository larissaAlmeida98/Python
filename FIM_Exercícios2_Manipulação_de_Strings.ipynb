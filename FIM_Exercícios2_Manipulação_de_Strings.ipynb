{
  "nbformat": 4,
  "nbformat_minor": 0,
  "metadata": {
    "colab": {
      "provenance": [],
      "authorship_tag": "ABX9TyOpavvmz+kI6k9vINUl/HAG",
      "include_colab_link": true
    },
    "kernelspec": {
      "name": "python3",
      "display_name": "Python 3"
    },
    "language_info": {
      "name": "python"
    }
  },
  "cells": [
    {
      "cell_type": "markdown",
      "metadata": {
        "id": "view-in-github",
        "colab_type": "text"
      },
      "source": [
        "<a href=\"https://colab.research.google.com/github/larissaAlmeida98/Python/blob/main/FIM_Exerc%C3%ADcios2_Manipula%C3%A7%C3%A3o_de_Strings.ipynb\" target=\"_parent\"><img src=\"https://colab.research.google.com/assets/colab-badge.svg\" alt=\"Open In Colab\"/></a>"
      ]
    },
    {
      "cell_type": "markdown",
      "source": [
        "#Manipulação de Strings"
      ],
      "metadata": {
        "id": "TG9Jzp-dkaBr"
      }
    },
    {
      "cell_type": "markdown",
      "source": [
        "#### 1. Solicite ao usuário que digite uma frase. Imprima:\n",
        "#### - o tamanho (em caracteres) da frase\n",
        "#### - a frase toda em maiúscula\n",
        "#### - a frase toda em minúscula\n",
        "#### - a frase na vertical(letra por letra)\n",
        "#### - solicite ao usuário que informe uma posição inicial e final na frase, e imprima a parte da frase que se encontra dentro das posições informadas pelo usuário\n",
        "#### - a frase em ordem inversa\n",
        "#### - solicite ao usuário que informe duas palavras. Substitua, na frase informada, a primeira palavra informada pelo usuário, pela segunda palavra informada. Armazene a nova frase em uma nova variável, e imprima o conteúdo da nova variável.\n"
      ],
      "metadata": {
        "id": "Ytzd34225Gii"
      }
    },
    {
      "cell_type": "code",
      "execution_count": null,
      "metadata": {
        "colab": {
          "base_uri": "https://localhost:8080/"
        },
        "id": "W7SPAXPR49rq",
        "outputId": "8599d9f6-ee75-4260-aa4f-feae0fafc9cf"
      },
      "outputs": [
        {
          "name": "stdout",
          "output_type": "stream",
          "text": [
            "Digite uma frase: Lima Lima\n",
            "O nome possui 9 caracteres. \n",
            "Nome em letras maiúsculas:  LIMA LIMA\n",
            "Nome em letras minúsculas:  lima lima\n",
            "Frase na vertical:\n",
            "L\n",
            "i\n",
            "m\n",
            "a\n",
            " \n",
            "L\n",
            "i\n",
            "m\n",
            "a\n",
            "Escolha um número inteiro: 3\n",
            "Escolha outro número de 0 a 3: 7\n",
            "Letras selecionadas no intervalo dos número:  a Lim\n",
            "A frase invertida é:  amiL amiL\n",
            "Digite uma palavra: Amor\n",
            "Digite outra palavra: Vida\n"
          ]
        }
      ],
      "source": [
        "import random\n",
        "\n",
        "frase = str(input('Digite uma frase: '))\n",
        "\n",
        "print(f'O nome possui {len(frase)} caracteres. ')\n",
        "print('Nome em letras maiúsculas: ', frase.upper())\n",
        "print('Nome em letras minúsculas: ', frase.lower())\n",
        "\n",
        "print('Frase na vertical:')\n",
        "for frase_vertical in frase:\n",
        "    print(frase_vertical)\n",
        "\n",
        "numero1 = int(input('Escolha um número inteiro: '))\n",
        "numero2 = int(input('Escolha outro número de 0 a 3: '))\n",
        "print('Letras selecionadas no intervalo dos número: ', frase[numero1:numero2 +1])\n",
        "\n",
        "print('A frase invertida é: ', frase[::-1])\n",
        "\n",
        "palavra1 = str(input('Digite uma palavra: '))\n",
        "palavra2 = str(input('Digite outra palavra: '))\n"
      ]
    },
    {
      "cell_type": "markdown",
      "source": [
        "#### 2. Solicite ao usuário que digite uma frase. Em seguida, solicite ao mesmo que digite uma palavra. Imprima uma mensagem informando a quantidade de vezes em que a palavra se encontra na frase (considere que a palavra pode estar em maiúscula ou minúscula na frase)."
      ],
      "metadata": {
        "id": "uiMlYzMJcugE"
      }
    },
    {
      "cell_type": "code",
      "source": [
        "frase = input(\"Digite uma frase: \")\n",
        "palavra = input(\"Digite uma palavra da frase: \")\n",
        "\n",
        "frase = frase.lower()\n",
        "palavra = palavra.lower()\n",
        "\n",
        "repeticoes = frase.count(palavra)\n",
        "\n",
        "print(f\"A palavra '{palavra}' aparece na frase {repeticoes} vezes.\")"
      ],
      "metadata": {
        "colab": {
          "base_uri": "https://localhost:8080/"
        },
        "id": "MqisU7QUdO-i",
        "outputId": "01a10ba5-8347-47c0-f30b-db2e20698b7b"
      },
      "execution_count": null,
      "outputs": [
        {
          "output_type": "stream",
          "name": "stdout",
          "text": [
            "Digite uma frase: A coisa mais linda, mais fofa, mais gostosa.\n",
            "Digite uma palavra da frase: MAIS\n",
            "A palavra 'mais' aparece na frase 3 vezes.\n"
          ]
        }
      ]
    },
    {
      "cell_type": "markdown",
      "source": [
        "#### 3. Solicite ao usuário que digite uma frase. Em seguida, solicite ao mesmo que informe um caractere de maneira que a frase seja dividida em partes de acordo com o caractere informado. Imprima na tela a frase dividida."
      ],
      "metadata": {
        "id": "__TDB35Fe0WE"
      }
    },
    {
      "cell_type": "code",
      "source": [
        "frase = str(input(\"Digite uma frase: \"))\n",
        "caractere = str(input(\"Digite um caractere que aparece na frase: \"))\n",
        "\n",
        "frase_dividida = frase.split(caractere)\n",
        "\n",
        "print(\"Frase dividida:\", frase_dividida)"
      ],
      "metadata": {
        "id": "7M32hc5rd5PJ",
        "colab": {
          "base_uri": "https://localhost:8080/"
        },
        "outputId": "f186974d-11d6-47d3-99cd-797a7df33bfa"
      },
      "execution_count": null,
      "outputs": [
        {
          "output_type": "stream",
          "name": "stdout",
          "text": [
            "Digite uma frase: Adoro mação, banana, laranja e tomates. Mas gosto mais de cenouras, beterrabas e batatas.\n",
            "Digite um caractere que aparece na frase: ,\n",
            "Frase dividida: ['Adoro mação', ' banana', ' laranja e tomates. Mas gosto mais de cenouras', ' beterrabas e batatas.']\n"
          ]
        }
      ]
    },
    {
      "cell_type": "markdown",
      "source": [
        "#### 4. Solicite ao usuário que digite uma palavra. Em seguida, solicite ao mesmo que informe um caractere separador, de maneira que o separador seja incluído na palavra, separando cada letra da palavra digitada.\n"
      ],
      "metadata": {
        "id": "XaVtYbVwbF0W"
      }
    },
    {
      "cell_type": "code",
      "source": [
        "palavra = input(\"Digite uma palavra: \")\n",
        "separador = input(\"Digite um separador: \")\n",
        "\n",
        "palavra_separada = separador.join(palavra)\n",
        "\n",
        "print(palavra_separada)"
      ],
      "metadata": {
        "colab": {
          "base_uri": "https://localhost:8080/"
        },
        "id": "BLUwstOQZloH",
        "outputId": "a86b0156-7c2f-481d-ec9a-e35c04c11fa3"
      },
      "execution_count": null,
      "outputs": [
        {
          "output_type": "stream",
          "name": "stdout",
          "text": [
            "Digite uma palavra: Larissa\n",
            "Digite um separador: *\n",
            "L*a*r*i*s*s*a\n"
          ]
        }
      ]
    },
    {
      "cell_type": "markdown",
      "source": [
        "#### 5. Solicite ao usuário que digite uma palavra e imprima uma mensagem informando se a palavra é ou não um palíndromo (uma palavra que se lê da mesma maneira nos dois sentidos. Por exemplo: OVO, RADAR, OSSO etc.)\n"
      ],
      "metadata": {
        "id": "eKyd6pVnbesl"
      }
    },
    {
      "cell_type": "code",
      "source": [
        "palavra = input('Digite uma palavra:').upper().replace(' ', '' )\n",
        "\n",
        "palavra_inversa = palavra[::-1]\n",
        "print(palavra)\n",
        "\n",
        "if palavra == palavra_inversa:\n",
        "    print(f'Palavra {palavra} é um palíndromo.')\n",
        "else:\n",
        "    print(f'Palavra {palavra} não é um palíndromo.')"
      ],
      "metadata": {
        "colab": {
          "base_uri": "https://localhost:8080/"
        },
        "id": "7GuKOq7vbS1b",
        "outputId": "f80ea5c7-3d47-4c85-d031-d53c46506bc0"
      },
      "execution_count": null,
      "outputs": [
        {
          "output_type": "stream",
          "name": "stdout",
          "text": [
            "Digite uma palavra:arara\n",
            "ARARA\n",
            "Palavra ARARA é um palíndromo.\n"
          ]
        }
      ]
    },
    {
      "cell_type": "code",
      "source": [],
      "metadata": {
        "id": "YfEiGRtcblbv"
      },
      "execution_count": null,
      "outputs": []
    }
  ]
}