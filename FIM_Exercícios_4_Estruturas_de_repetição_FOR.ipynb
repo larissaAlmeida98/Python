{
  "cells": [
    {
      "cell_type": "markdown",
      "metadata": {
        "id": "view-in-github",
        "colab_type": "text"
      },
      "source": [
        "<a href=\"https://colab.research.google.com/github/larissaAlmeida98/Python/blob/main/FIM_Exerc%C3%ADcios_4_Estruturas_de_repeti%C3%A7%C3%A3o_FOR.ipynb\" target=\"_parent\"><img src=\"https://colab.research.google.com/assets/colab-badge.svg\" alt=\"Open In Colab\"/></a>"
      ]
    },
    {
      "cell_type": "markdown",
      "source": [
        "#Estruturas de repetição - FOR"
      ],
      "metadata": {
        "id": "RSxToLu3nPvD"
      }
    },
    {
      "cell_type": "markdown",
      "metadata": {
        "id": "T0VEDM6MhRNR"
      },
      "source": [
        " 1. Faça um programa que faça a leitura de 5 valores, e para cada valor, mostre o seu dobro na tela.\n"
      ]
    },
    {
      "cell_type": "code",
      "execution_count": null,
      "metadata": {
        "colab": {
          "base_uri": "https://localhost:8080/"
        },
        "id": "X8JLrcg6hWqY",
        "outputId": "03f2a05d-38ef-4660-ad1e-a41c6a8596ee"
      },
      "outputs": [
        {
          "output_type": "stream",
          "name": "stdout",
          "text": [
            "Digite um número: 1\n",
            "O dobro de 1.0 é 2.0\n",
            "Digite um número: 2\n",
            "O dobro de 2.0 é 4.0\n",
            "Digite um número: 3\n",
            "O dobro de 3.0 é 6.0\n",
            "Digite um número: 4\n",
            "O dobro de 4.0 é 8.0\n",
            "Digite um número: 5\n",
            "O dobro de 5.0 é 10.0\n"
          ]
        }
      ],
      "source": [
        "repetições = 5\n",
        "\n",
        "for i in range(repetições):\n",
        "  peso = float(input('Digite um número: '))\n",
        "  dobro = peso * 2 \n",
        "  print('O dobro de', peso, 'é',dobro)"
      ]
    },
    {
      "cell_type": "markdown",
      "metadata": {
        "id": "0-0DKXNuXJQ7"
      },
      "source": [
        " 2. Faça um programa que leia um número e que imprima os números ímpares de 1 até o número informado.\n"
      ]
    },
    {
      "cell_type": "code",
      "execution_count": null,
      "metadata": {
        "colab": {
          "base_uri": "https://localhost:8080/"
        },
        "id": "L0bT0q4rY1fn",
        "outputId": "245f3899-346a-4c10-8e81-f9390a6fe9d1"
      },
      "outputs": [
        {
          "output_type": "stream",
          "name": "stdout",
          "text": [
            "Digite um número : 5\n",
            "Números impares:  1\n",
            "Números impares:  3\n",
            "Números impares:  5\n"
          ]
        }
      ],
      "source": [
        "x = int(input('Digite um número : '))\n",
        "\n",
        "for i in range (1, x+1, 2):\n",
        "  print('Números impares: ',i)"
      ]
    },
    {
      "cell_type": "markdown",
      "metadata": {
        "id": "DbLHqIo-Xmkf"
      },
      "source": [
        " 3. Leia um número e imprima a tabuada de multiplicar deste número. Por exemplo, para o número 5."
      ]
    },
    {
      "cell_type": "code",
      "execution_count": null,
      "metadata": {
        "colab": {
          "base_uri": "https://localhost:8080/"
        },
        "id": "OglA1cgiXYF8",
        "outputId": "c26d8ac7-4827-43bb-f087-910d68a965c3"
      },
      "outputs": [
        {
          "name": "stdout",
          "output_type": "stream",
          "text": [
            "Digite um número: 5\n",
            "5 x 1 = 5\n",
            "5 x 2 = 10\n",
            "5 x 3 = 15\n",
            "5 x 4 = 20\n",
            "5 x 5 = 25\n",
            "5 x 6 = 30\n",
            "5 x 7 = 35\n",
            "5 x 8 = 40\n",
            "5 x 9 = 45\n",
            "5 x 10 = 50\n"
          ]
        }
      ],
      "source": [
        "numero = int(input('Digite um número: '))\n",
        "\n",
        "for base in range (1, 11):\n",
        "  print(f'{numero} x {base} = {numero * base}')"
      ]
    },
    {
      "cell_type": "markdown",
      "metadata": {
        "id": "zdIXaN50ZKnn"
      },
      "source": [
        " 4. Faça um programa que leia dois números inteiros e que imprima todos os números inteiros existentes entre o menor e o maior número informados.\n"
      ]
    },
    {
      "cell_type": "code",
      "execution_count": null,
      "metadata": {
        "colab": {
          "base_uri": "https://localhost:8080/"
        },
        "id": "PPffK5EwmwLr",
        "outputId": "c1343ebe-1254-42de-d602-a0e30c6036a0"
      },
      "outputs": [
        {
          "output_type": "stream",
          "name": "stdout",
          "text": [
            "Digite um número: 9\n",
            "Digite outro número: 2\n",
            "2\n",
            "3\n",
            "4\n",
            "5\n",
            "6\n",
            "7\n",
            "8\n"
          ]
        }
      ],
      "source": [
        "x = int(input('Digite um número: '))\n",
        "y = int(input('Digite outro número: '))\n",
        "  \n",
        "if x > y:\n",
        "  x, y = y, x\n",
        "\n",
        "for i in range (x, y):\n",
        "  print (i,)"
      ]
    },
    {
      "cell_type": "markdown",
      "metadata": {
        "id": "wpxDvFUqbFSm"
      },
      "source": [
        " 5. Faça um programa que leia um número que calcule a soma dos números inteiros entre 1 e o número informado."
      ]
    },
    {
      "cell_type": "code",
      "execution_count": null,
      "metadata": {
        "colab": {
          "base_uri": "https://localhost:8080/"
        },
        "id": "nZwfCIXSZm44",
        "outputId": "653578ad-d1d9-4181-8fdd-74668697a619"
      },
      "outputs": [
        {
          "output_type": "stream",
          "name": "stdout",
          "text": [
            "Digite um número: 4\n",
            "4 + 1 = 5\n",
            "4 + 2 = 6\n",
            "4 + 3 = 7\n",
            "4 + 4 = 8\n"
          ]
        }
      ],
      "source": [
        "x = int(input('Digite um número: '))\n",
        "\n",
        "for base in range (1, x+1):\n",
        "  print(f'{x} + {base} = {x + base}')"
      ]
    },
    {
      "cell_type": "markdown",
      "metadata": {
        "id": "7YleZRgefZlO"
      },
      "source": [
        " 6. Faça um programa que leia um número e que calcule o fatorial deste número."
      ]
    },
    {
      "cell_type": "code",
      "execution_count": null,
      "metadata": {
        "colab": {
          "base_uri": "https://localhost:8080/"
        },
        "id": "baoeXr-RcbJ2",
        "outputId": "8bc8f85b-52f3-4de7-9500-8f72707b00da"
      },
      "outputs": [
        {
          "output_type": "stream",
          "name": "stdout",
          "text": [
            "Digite um número: 5\n",
            "5! = 120\n",
            "O fatorial de 5 é 120\n"
          ]
        }
      ],
      "source": [
        "x = int(input('Digite um número: '))\n",
        "\n",
        "fator = 1\n",
        "\n",
        "for i in range(1, x+1):\n",
        "    fator *= i\n",
        "\n",
        "print('{}! = {}'.format(x, fator))\n",
        "print('O fatorial de {} é {}'.format(x, fator))"
      ]
    },
    {
      "cell_type": "markdown",
      "metadata": {
        "id": "B8Ym_3Ei3qUC"
      },
      "source": [
        " 7. Faça um programa que solicite ao usuário que informe o peso, em kg, de 10 pessoas, e em seguida, exiba a média desses pesos."
      ]
    },
    {
      "cell_type": "code",
      "execution_count": null,
      "metadata": {
        "colab": {
          "base_uri": "https://localhost:8080/"
        },
        "id": "qMdQRO_O4qSx",
        "outputId": "042aba7d-8a82-40f0-8eeb-0f9c38e762ac"
      },
      "outputs": [
        {
          "output_type": "stream",
          "name": "stdout",
          "text": [
            "Informe o peso (kg) da 1ª pessoa: 67\n",
            "Informe o peso (kg) da 2ª pessoa: 56\n",
            "Informe o peso (kg) da 3ª pessoa: 89\n",
            "Informe o peso (kg) da 4ª pessoa: 67\n",
            "Informe o peso (kg) da 5ª pessoa: 89\n",
            "Informe o peso (kg) da 6ª pessoa: 09\n",
            "Informe o peso (kg) da 7ª pessoa: 67\n",
            "Informe o peso (kg) da 8ª pessoa: 89\n",
            "Informe o peso (kg) da 9ª pessoa: 78\n",
            "Informe o peso (kg) da 10ª pessoa: 5\n",
            "A média dos pesos é de 61.6 gk\n"
          ]
        }
      ],
      "source": [
        "soma = 0\n",
        "\n",
        "for i in range(1, 11):\n",
        "  peso = float(input('Informe o peso (kg) da {}ª pessoa: '.format(i)))\n",
        "  soma += peso\n",
        "\n",
        "media = soma / 10\n",
        "\n",
        "print('A média dos pesos é de {} gk'.format(media))\n"
      ]
    },
    {
      "cell_type": "markdown",
      "metadata": {
        "id": "QaoaD_KR7NIp"
      },
      "source": [
        "8. Faça um programa que leia o sexo e o peso de 10 pessoas, e mostre quantas pessoas do sexo masculino possuem peso entre 60 e 80 kg, bem como a quantidade de mulheres que possuem peso entre 50 e 70 kg."
      ]
    },
    {
      "cell_type": "code",
      "execution_count": null,
      "metadata": {
        "colab": {
          "base_uri": "https://localhost:8080/"
        },
        "id": "XsXbDxtIPz9h",
        "outputId": "9638e86b-f9ef-47aa-f203-4f79fc7adc2a"
      },
      "outputs": [
        {
          "output_type": "stream",
          "name": "stdout",
          "text": [
            "Informe o sexo da 1ª pessoa utlizando [H]omem e [M]ulher: H\n",
            "Informe o peso (kg) da 1ª pessoa: 78\n",
            "Informe o sexo da 2ª pessoa utlizando [H]omem e [M]ulher: H\n",
            "Informe o peso (kg) da 2ª pessoa: 89\n",
            "Informe o sexo da 3ª pessoa utlizando [H]omem e [M]ulher: M\n",
            "Informe o peso (kg) da 3ª pessoa: 67\n",
            "Informe o sexo da 4ª pessoa utlizando [H]omem e [M]ulher: H\n",
            "Informe o peso (kg) da 4ª pessoa: 90\n",
            "Informe o sexo da 5ª pessoa utlizando [H]omem e [M]ulher: M\n",
            "Informe o peso (kg) da 5ª pessoa: 55\n",
            "Informe o sexo da 6ª pessoa utlizando [H]omem e [M]ulher: M\n",
            "Informe o peso (kg) da 6ª pessoa: 60\n",
            "Informe o sexo da 7ª pessoa utlizando [H]omem e [M]ulher: H\n",
            "Informe o peso (kg) da 7ª pessoa: 85\n",
            "Informe o sexo da 8ª pessoa utlizando [H]omem e [M]ulher: M\n",
            "Informe o peso (kg) da 8ª pessoa: 70\n",
            "Informe o sexo da 9ª pessoa utlizando [H]omem e [M]ulher: M\n",
            "Informe o peso (kg) da 9ª pessoa: 65\n",
            "Informe o sexo da 10ª pessoa utlizando [H]omem e [M]ulher: H\n",
            "Informe o peso (kg) da 10ª pessoa: 99\n",
            "Quantidade de homens com peso entre 60 e 80 kg: 1\n",
            "Quantidade de mulheres com peso entre 50 e 70 kg: 5\n"
          ]
        }
      ],
      "source": [
        "homens = 0\n",
        "mulheres = 0\n",
        "\n",
        "for i in range(1, 11):\n",
        "    sexo = input('Informe o sexo da {}ª pessoa utlizando [H]omem e [M]ulher: '.format(i))\n",
        "    peso = float(input(\"Informe o peso (kg) da {}ª pessoa: \".format(i)))\n",
        "    if sexo == 'H' and 60 <= peso <= 80:\n",
        "        homens += 1     \n",
        "    elif sexo == 'M' and 50 <= peso <= 70:\n",
        "        mulheres += 1\n",
        "        \n",
        "print(\"Quantidade de homens com peso entre 60 e 80 kg: {}\".format(homens))\n",
        "print(\"Quantidade de mulheres com peso entre 50 e 70 kg: {}\".format(mulheres))"
      ]
    },
    {
      "cell_type": "code",
      "execution_count": null,
      "metadata": {
        "id": "j_lVZCrUSmUO"
      },
      "outputs": [],
      "source": []
    },
    {
      "cell_type": "markdown",
      "metadata": {
        "id": "kVrwnhm4qpvi"
      },
      "source": [
        " 9. Faça um programa que leia a idade e peso de sete pessoas. Calcule e mostre:\n",
        "- a quantidade de pessoas com mais de 90 kg\n",
        "- a média das idades das sete pessoas\n"
      ]
    },
    {
      "cell_type": "code",
      "execution_count": null,
      "metadata": {
        "id": "5X5w7PM-s7cD",
        "colab": {
          "base_uri": "https://localhost:8080/"
        },
        "outputId": "4a27c52a-bc88-43ee-8362-776c8fea0d63"
      },
      "outputs": [
        {
          "output_type": "stream",
          "name": "stdout",
          "text": [
            "Informe a idade da 1ª pessoa: 45\n",
            "Informe o peso (kg) da 1ª pessoa: 99\n",
            "Informe a idade da 2ª pessoa: 45\n",
            "Informe o peso (kg) da 2ª pessoa: 110\n",
            "Informe a idade da 3ª pessoa: 34\n",
            "Informe o peso (kg) da 3ª pessoa: 85\n",
            "Existe 2 pessoas com mais de 90 kg\n",
            "A média das idades é de 41.33 anos\n"
          ]
        }
      ],
      "source": [
        "total_idades = 0\n",
        "total_peso = 0\n",
        "\n",
        "for i in range (1, 4):\n",
        "  idade = int(input('Informe a idade da {}ª pessoa: '.format(i)))\n",
        "  peso = float(input('Informe o peso (kg) da {}ª pessoa: '.format(i)))\n",
        "  \n",
        "  total_idades += idade\n",
        "\n",
        "  if peso > 90:\n",
        "    total_peso += 1\n",
        "\n",
        "medias = total_idades / 3\n",
        "\n",
        "print('Existe {} pessoas com mais de 90 kg'.format(total_peso))\n",
        "print(f'A média das idades é de {medias:.2f} anos')"
      ]
    },
    {
      "cell_type": "markdown",
      "metadata": {
        "id": "0_JyFIUKwbV6"
      },
      "source": [
        "10. Faça um programa que leia um número e que imprima na tela se o número é primo ou não.\n"
      ]
    },
    {
      "cell_type": "code",
      "execution_count": null,
      "metadata": {
        "id": "JfoCYEYqwds_",
        "outputId": "cc3a9c61-97ef-4d7d-d1db-93c05e326981",
        "colab": {
          "base_uri": "https://localhost:8080/"
        }
      },
      "outputs": [
        {
          "output_type": "stream",
          "name": "stdout",
          "text": [
            "Digite um número inteiro: 8\n",
            "8 não é um número primo.\n"
          ]
        }
      ],
      "source": [
        "numero = int(input('Digite um número inteiro: '))\n",
        "primo = 1\n",
        "\n",
        "for i in range (2, numero):\n",
        "  if (numero % i == 0):\n",
        "    primo = 0\n",
        "\n",
        "if (primo == 1):\n",
        "  print(numero, 'é um número primo.')\n",
        "else:\n",
        "  print(numero, 'não é um número primo.')"
      ]
    }
  ],
  "metadata": {
    "colab": {
      "provenance": [],
      "authorship_tag": "ABX9TyN2YbZniZlakprXWpB29gdB",
      "include_colab_link": true
    },
    "kernelspec": {
      "display_name": "Python 3",
      "name": "python3"
    },
    "language_info": {
      "name": "python"
    }
  },
  "nbformat": 4,
  "nbformat_minor": 0
}