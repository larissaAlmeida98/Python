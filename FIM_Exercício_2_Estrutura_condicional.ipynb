{
  "nbformat": 4,
  "nbformat_minor": 0,
  "metadata": {
    "colab": {
      "provenance": [],
      "authorship_tag": "ABX9TyOwM5GRisMNO+Hh3WrWs0SG",
      "include_colab_link": true
    },
    "kernelspec": {
      "name": "python3",
      "display_name": "Python 3"
    },
    "language_info": {
      "name": "python"
    }
  },
  "cells": [
    {
      "cell_type": "markdown",
      "metadata": {
        "id": "view-in-github",
        "colab_type": "text"
      },
      "source": [
        "<a href=\"https://colab.research.google.com/github/larissaAlmeida98/Python/blob/main/FIM_Exerc%C3%ADcio_2_Estrutura_condicional.ipynb\" target=\"_parent\"><img src=\"https://colab.research.google.com/assets/colab-badge.svg\" alt=\"Open In Colab\"/></a>"
      ]
    },
    {
      "cell_type": "markdown",
      "source": [
        "#Estrtutura Condicional"
      ],
      "metadata": {
        "id": "MxJOx2eknB6K"
      }
    },
    {
      "cell_type": "markdown",
      "source": [
        "3. Faça um programa que receba 3 notas de um aluno, calcule e mostre uma mensagem de acordo com sua média:\n",
        "MÉDIA MENSAGEM\n",
        "\n",
        "  .>= 0 e < 3 REPROVADO\n",
        "\n",
        "  .>= 3 e < 7 EXAME\n",
        "\n",
        "  .>= 7 e <= 10 APROVADO\n",
        "\n"
      ],
      "metadata": {
        "id": "zGroeEjH17H1"
      }
    },
    {
      "cell_type": "code",
      "execution_count": null,
      "metadata": {
        "colab": {
          "base_uri": "https://localhost:8080/"
        },
        "id": "1mXFjRJ60s4-",
        "outputId": "132fa754-d350-4173-9794-5df6c45d437d"
      },
      "outputs": [
        {
          "output_type": "stream",
          "name": "stdout",
          "text": [
            "Digite a primeira nota:7.5\n",
            "Digite a segunta nota:8.2\n",
            "Digite a terceira nota:7.4\n",
            "Média das notas = 7.70\n",
            "Situação: APROVADO\n"
          ]
        }
      ],
      "source": [
        "x = float(input(\"Digite a primeira nota:\"))\n",
        "y = float(input(\"Digite a segunta nota:\"))\n",
        "z = float(input('Digite a terceira nota:'))\n",
        "media = (x + y + z)/3\n",
        "print('Média das notas = %.2f' %(media))\n",
        "\n",
        "media = (x + y + z)/3\n",
        "if (7 <= media <= 10):\n",
        "        print('Situação: APROVADO')\n",
        "elif(3 <= media < 7):\n",
        "        print('Situação: EXAME')\n",
        "elif(0 <= media < 3):\n",
        "        print('Situação: REPROVADO')"
      ]
    },
    {
      "cell_type": "markdown",
      "source": [
        "4. Dados três valores X,Y,Z, verificar se eles podem ser os comprimentos dos lados de um triângulo. Se eles não formarem um triângulo escrever uma mensagem. Considerar que o comprimento de cada lado de um triângulo é menor que a soma dos outros dois lados."
      ],
      "metadata": {
        "id": "7r3nEgFt6KEi"
      }
    },
    {
      "cell_type": "code",
      "source": [
        "ladoX = 2\n",
        "ladoY = 2\n",
        "ladoZ = 4\n",
        "\n",
        "if (ladoX + ladoY < ladoZ) or (ladoX + ladoZ < ladoY) or (ladoY + ladoZ < ladoX):\n",
        "  print('Nao é um triângulo')\n",
        "elif ((ladoX == ladoY) and (ladoX == ladoZ)):\n",
        "  print('Triângulo Equilátero')\n",
        "elif ((ladoX == ladoY) or (ladoX ==ladoZ) or (ladoY == ladoZ)):\n",
        "  print('Triângulo Isósceles')\n",
        "else:\n",
        "  print('Triângulo Escaleno')"
      ],
      "metadata": {
        "colab": {
          "base_uri": "https://localhost:8080/"
        },
        "id": "BGJk_JY_6K8v",
        "outputId": "d3e5002f-f6c7-4d09-86ed-3d0452f944b5"
      },
      "execution_count": null,
      "outputs": [
        {
          "output_type": "stream",
          "name": "stdout",
          "text": [
            "Triângulo Isósceles\n"
          ]
        }
      ]
    },
    {
      "cell_type": "markdown",
      "source": [
        " 5. Faça um programa que leia o sexo e a altura (H - em metros) de uma pessoa, calcule e apresente seu peso ideal utilizando as seguintes fórmulas:\n",
        "Peso ideal (homens) = (72,7 * H) – 58.\n",
        "Peso ideal (mulheres) = (62,1 * H) – 44,7\n",
        "Sugestão: para identificar o sexo da pessoa, solicite ao usuário que informe 1 para homens, e 2 para mulhere."
      ],
      "metadata": {
        "id": "9NVAoO0nPtGL"
      }
    },
    {
      "cell_type": "code",
      "source": [
        "sexo = int(input('Informe seu gênero (1-Homem, 2-Mulher):'))\n",
        "\n",
        "while (sexo):\n",
        "  if (sexo == 1): \n",
        "    print('Gênero: Homem')\n",
        "    altura = float(input('Informe sua altura (Ex: 1.70):'))\n",
        "    peso = float(input('Informe seu peso (Ex: 68.90):'))\n",
        "    PesoIdeal = (72.7*altura)-58\n",
        "    print('Peso ideal = %.2f' %(PesoIdeal))\n",
        "  elif(sexo == 2):\n",
        "    print('Gênero: Mulher')\n",
        "    altura = float(input('Informe sua altura (Ex: 1.70): '))\n",
        "    peso = float(input('Informe seu peso (Ex: 68.90): '))\n",
        "    PesoIdeal = (62.1*altura)-44.7\n",
        "    print('Peso ideal = %.2f' %(PesoIdeal))\n",
        "  break"
      ],
      "metadata": {
        "colab": {
          "base_uri": "https://localhost:8080/"
        },
        "id": "s2SyoPWfD9jr",
        "outputId": "27867586-f809-4829-e262-af75369318ec"
      },
      "execution_count": null,
      "outputs": [
        {
          "output_type": "stream",
          "name": "stdout",
          "text": [
            "Informe seu gênero (1-Homem, 2-Mulher):2\n",
            "Gênero: Mulher\n",
            "Informe sua altura (Ex: 1.70):1.68\n",
            "Informe seu peso (Ex: 68.90):60\n",
            "Peso ideal = 59.63\n"
          ]
        }
      ]
    },
    {
      "cell_type": "markdown",
      "source": [
        "6. Construa um programa para determinar se o indivíduo está com um peso favorável. Essa situação é determinada através do IMC (Índice de Massa Corpórea, que é definida como sendo a relação entre o peso (PESO – em kg) e o quadrado da Altura (ALTURA – em m) do indivíduo. Ou seja, IMC= PESO/ALTURA² e, a situação do peso é determinada pela tabela abaixo:\n",
        "\n",
        " Condição Situação\n",
        " IMC abaixo de 20 Abaixo do peso\n",
        " IMC de 20 até 25 Peso Normal\n",
        " IMC de 25 até 30 Sobre Peso\n",
        " IMC de 30 até 40 Obeso\n",
        " IMC de 40 e acima Obeso Mórbido"
      ],
      "metadata": {
        "id": "xeUb1vbttnQE"
      }
    },
    {
      "cell_type": "code",
      "source": [
        "peso = float(input(\"Informe seu peso (EX. 65.50):\"))\n",
        "altura = float(input(\"Informe sua altura (EX. 1.70):\"))\n",
        "IMC = peso/altura**2\n",
        "print('IMC: %.2f' %(IMC))\n",
        "\n",
        "IMC = peso/altura**2\n",
        "if (IMC < 20):\n",
        "    print('Situação: ABAIXO DO PESO')\n",
        "elif(20 < IMC <= 25):\n",
        "    print('Situação: PESO NORMAL')\n",
        "elif(25 < IMC <= 30):\n",
        "    print('Situação: SOBRE PESO')\n",
        "elif(30 < IMC <= 40):\n",
        "    print('Situação: OBESO')\n",
        "elif(IMC > 40):\n",
        "    print('Situação: OBESO MÓRBIDO')\n"
      ],
      "metadata": {
        "colab": {
          "base_uri": "https://localhost:8080/"
        },
        "id": "h34_ur0xt7fa",
        "outputId": "769f167d-7870-4cf7-e785-d6ab12a73005"
      },
      "execution_count": null,
      "outputs": [
        {
          "output_type": "stream",
          "name": "stdout",
          "text": [
            "Informe seu peso (EX. 65.50):70\n",
            "Informe sua altura (EX. 1.70):1.75\n",
            "IMC: 22.86\n",
            "Situação: PESO NORMAL\n"
          ]
        }
      ]
    },
    {
      "cell_type": "markdown",
      "source": [
        " 7. Uma empresa decide dar aumento de 30% aos funcionários com salários inferiores a RS 1000,00. Faça um programa que receba o salário do funcionário e mostre o valor do salário reajustado ou uma mensagem, caso o funcionário não tenha direito ao aumento."
      ],
      "metadata": {
        "id": "ard1VCJd1pal"
      }
    },
    {
      "cell_type": "code",
      "source": [
        "salario = float(input('Informe seu salário atual:'))\n",
        "\n",
        "while (salario):\n",
        "    if (salario >= 1000): \n",
        "        print('Não há reajuste salarial!')\n",
        "        break\n",
        "    elif(salario < 1000):\n",
        "        ajuste = (salario + (salario * 0.3))\n",
        "        print('Ajuste salarial para R$ %.2f' %(ajuste))\n",
        "        break"
      ],
      "metadata": {
        "colab": {
          "base_uri": "https://localhost:8080/"
        },
        "id": "KDlK09FO2ZUK",
        "outputId": "5ee9e882-56c1-4290-fbf1-30bff08d2f12"
      },
      "execution_count": null,
      "outputs": [
        {
          "output_type": "stream",
          "name": "stdout",
          "text": [
            "Informe seu salário atual:999.99\n",
            "Ajuste salarial para R$ 1299.99\n"
          ]
        }
      ]
    },
    {
      "cell_type": "markdown",
      "source": [
        "8. Faça um programa que receba a idade de um nadador e mostre a sua categoria\n",
        "IDADE CATEGORIA\n",
        "até 7 anos INFANTIL\n",
        "8 a 10 anos JUVENIL\n",
        "11 a 15 anos ADOLESCENTE\n",
        "16 a 30 anos ADULTO\n",
        "acima de 30 anos SENIOR"
      ],
      "metadata": {
        "id": "drs4Tgwx4tu0"
      }
    },
    {
      "cell_type": "code",
      "source": [
        "idade = int(input(\"Informe sua idade:\"))\n",
        "\n",
        "if (idade <= 1):\n",
        "  print('Idade:', idade, 'ano')\n",
        "elif(idade > 1):\n",
        "  print('Idade:', idade,'anos')\n",
        "\n",
        "if (idade <= 7):\n",
        "  print('Categoria: INFANTIL')\n",
        "elif (8 <= idade <= 10 ):\n",
        "  print('Categoria: JUVENIL')\n",
        "elif (11 <= idade <= 15):\n",
        "  print('Categoria: ADOLESCENTE')\n",
        "elif (16 <= idade <= 30 ):\n",
        "  print('Categoria: ADULTO')\n",
        "else:\n",
        "  print('Categoria: SENIOR')"
      ],
      "metadata": {
        "colab": {
          "base_uri": "https://localhost:8080/"
        },
        "id": "AGtgwWd_6rJG",
        "outputId": "952389b9-9ab2-4c98-80ad-30b1f55836bd"
      },
      "execution_count": null,
      "outputs": [
        {
          "output_type": "stream",
          "name": "stdout",
          "text": [
            "Informe sua idade:11\n",
            "Idade: 11 anos\n",
            "Categoria: ADOLESCENTE\n"
          ]
        }
      ]
    },
    {
      "cell_type": "markdown",
      "source": [
        " 9. Faça um programa que leia a idade de uma pessoa e informe a sua classe eleitoral:\n",
        "- não eleitor (abaixo de 16 anos);\n",
        "- eleitor obrigatório (entre a faixa de 18 e menor de 65 anos);\n",
        "- eleitor facultativo (de 16 até 18 anos e maior de 65 anos, inclusive)"
      ],
      "metadata": {
        "id": "8r94BfBoBDh1"
      }
    },
    {
      "cell_type": "code",
      "source": [
        "idade = int(input(\"Informe sua idade:\"))\n",
        "\n",
        "if (idade < 16):\n",
        "  print('Clase eleitoral: NÃO ELEITOR')\n",
        "elif (18 <= idade < 65):\n",
        "  print('Clase eleitoral: ELEITOR OBRIGATÓRIO')\n",
        "else:\n",
        "  print('Categoria: ELEITOR FACULTATIVO')\n",
        "  "
      ],
      "metadata": {
        "colab": {
          "base_uri": "https://localhost:8080/"
        },
        "id": "kBmZA5nCBCon",
        "outputId": "3b59ebbf-69a3-41ed-bdc2-ad4e5f65c2a1"
      },
      "execution_count": null,
      "outputs": [
        {
          "output_type": "stream",
          "name": "stdout",
          "text": [
            "Informe sua idade:65\n",
            "Categoria: ELEITOR FACULTATIVO\n"
          ]
        }
      ]
    },
    {
      "cell_type": "markdown",
      "source": [
        " 10. Faça um programa que leia o um número inteiro entre 1 e 7 e escreva o dia da semana correspondente. Caso o usuário digite um número fora desse intervalo, deverá aparecer uma mensagem informando que não existe dia da semana com esse número."
      ],
      "metadata": {
        "id": "FTQsLS3Nxtb1"
      }
    },
    {
      "cell_type": "code",
      "source": [
        "dia_da_semana = int(input(\"Digite um número entre 1 e 7: \"))\n",
        "\n",
        "if (dia_da_semana == 1):\n",
        "  print('Dia: Segunda-Feira')\n",
        "elif(dia_da_semana == 2):\n",
        "  print('Dia: Terça-Feira')\n",
        "elif(dia_da_semana == 3):\n",
        "  print('Dia: Quarta-Feira')\n",
        "elif(dia_da_semana == 4):\n",
        "  print('Dia: Quinta-Feira')\n",
        "elif(dia_da_semana == 5):\n",
        "  print('Dia: Sexta-Feira')\n",
        "elif(dia_da_semana == 6):\n",
        "  print('Dia: Sábado')\n",
        "elif(dia_da_semana == 7):\n",
        "  print('Dia: Domingo')\n",
        "else:\n",
        "  print('Não existe dia da semana!')"
      ],
      "metadata": {
        "id": "Y_TU32-OCCIE",
        "colab": {
          "base_uri": "https://localhost:8080/"
        },
        "outputId": "dcaf548c-2650-423e-93ef-6aacbb1309d0"
      },
      "execution_count": null,
      "outputs": [
        {
          "output_type": "stream",
          "name": "stdout",
          "text": [
            "Digite um número entre 1 e 7: 3\n",
            "Dia: Quarta-Feira\n"
          ]
        }
      ]
    },
    {
      "cell_type": "markdown",
      "source": [
        "11. Faça um programa que leia um número inteiro entre 1 e 12 e escrever o mês correspondente. Caso o usuário digite um número fora desse intervalo, deverá aparecer uma mensagem informando que não existe mês com este número."
      ],
      "metadata": {
        "id": "K1ZUGMyq2eX4"
      }
    },
    {
      "cell_type": "code",
      "source": [
        "dia_da_semana = int(input(\"Digite um número entre 1 e 12:\"))\n",
        "\n",
        "if (dia_da_semana == 1):\n",
        "  print('Mês: Janeiro')\n",
        "elif(dia_da_semana == 2):\n",
        "  print('Mês: Fevereiro')\n",
        "elif(dia_da_semana == 3):\n",
        "  print('Mês: Março')\n",
        "elif(dia_da_semana == 4):\n",
        "  print('Mês: Abril')\n",
        "elif(dia_da_semana == 5):\n",
        "  print('Mês: Maio')\n",
        "elif(dia_da_semana == 6):\n",
        "  print('Mês: Junho')\n",
        "elif(dia_da_semana == 7):\n",
        "  print('Mês: Julho')\n",
        "elif(dia_da_semana == 8):\n",
        "  print('Mês: Agosto')\n",
        "elif(dia_da_semana == 9):\n",
        "  print('Mês: Setembro')\n",
        "elif(dia_da_semana == 10):\n",
        "  print('Mês: Outubro')\n",
        "elif(dia_da_semana == 11):\n",
        "  print('Mês: Novembro')\n",
        "elif(dia_da_semana == 12):\n",
        "  print('Mês: Dezembro')\n",
        "else:\n",
        "  print('Não existe mês!')"
      ],
      "metadata": {
        "colab": {
          "base_uri": "https://localhost:8080/"
        },
        "id": "W4cvG8RO12Yt",
        "outputId": "d08c2930-4a14-473f-8cd8-233042562ddb"
      },
      "execution_count": null,
      "outputs": [
        {
          "output_type": "stream",
          "name": "stdout",
          "text": [
            "Digite um número entre 1 e 12:0\n",
            "Não existe mês!\n"
          ]
        }
      ]
    },
    {
      "cell_type": "markdown",
      "source": [
        " 12. Faça um programa que solicite ao usuário que informe dois números e que exiba o seguinte menu:\n",
        " 1 – Somar\n",
        " 2 – Subtrair\n",
        " 3 – Multiplicar\n",
        "4 – Dividir\n",
        " 5 – Sair\n",
        " Em seguida, leia a opção escolhida e exiba o resultado de acordo com a opção.\n"
      ],
      "metadata": {
        "id": "vamhr9jJWdBX"
      }
    },
    {
      "cell_type": "code",
      "source": [
        "x = int(input('Digite o primeiro número: '))\n",
        "y = int(input('Digite o segundo número: '))\n",
        "print('''Escolha uma das opções:\n",
        "[1] Somar\n",
        "[2] Subtrair\n",
        "[3] Multiplicar\n",
        "[4] Dividir\n",
        "[5] Sair''')\n",
        "\n",
        "menu = int(input('Escolha a opção: '))\n",
        "if(menu==1):\n",
        "    somar = x + y \n",
        "    print('Soma de {} + {} = {}'.format(x, y, somar))\n",
        "elif(menu==2):\n",
        "    subtrair = x - y\n",
        "    print('Subtração de {} - {} = {}'.format(x, y, subtrair))\n",
        "elif(menu==3):\n",
        "    multiplicar = x * y\n",
        "    print('Multiplicação de {} * {} = {}'.format(x, y, multiplicar))\n",
        "elif(menu==4):\n",
        "    dividir = x / y\n",
        "    print('Divisão de {} / {} = {}'.format(x, y, dividir))\n",
        "elif(menu==5):\n",
        "    print('Seção encerrada!')\n",
        "else:\n",
        "  print('Opção inválida. Tente novamente!')"
      ],
      "metadata": {
        "colab": {
          "base_uri": "https://localhost:8080/"
        },
        "id": "_HWySkNFfK4e",
        "outputId": "922d4c12-6a63-488c-ce2b-c8ebe8bc4abb"
      },
      "execution_count": null,
      "outputs": [
        {
          "output_type": "stream",
          "name": "stdout",
          "text": [
            "Digite o primeiro número: 2\n",
            "Digite o segundo número: 3\n",
            "Escolha uma das opções:\n",
            "[1] Somar\n",
            "[2] Subtrair\n",
            "[3] Multiplicar\n",
            "[4] Dividir\n",
            "[5] Sair\n",
            "Escolha a opção: 5\n",
            "Seção encerrada!\n"
          ]
        }
      ]
    },
    {
      "cell_type": "markdown",
      "source": [
        "13. Faça um programa para resolver equações de segundo grau"
      ],
      "metadata": {
        "id": "2Urh52BdDmLN"
      }
    },
    {
      "cell_type": "markdown",
      "source": [],
      "metadata": {
        "id": "dOO3I47EnAGq"
      }
    },
    {
      "cell_type": "code",
      "source": [
        "import math\n",
        "\n",
        "a = float(input(\"Digite o coeficiente a: \"))\n",
        "b = float(input(\"Digite o coeficiente b: \"))\n",
        "c = float(input(\"Digite o coeficiente c: \"))\n",
        "\n",
        "delta = b**2 - 4*a*c\n",
        "\n",
        "if delta < 0:\n",
        "    print(\"A equação não possui raízes reais.\")\n",
        "elif delta == 0:\n",
        "    x = -b / (2*a)\n",
        "    print(\"A equação possui uma raiz real sendo: x = {:.2f}\".format(x))\n",
        "else:\n",
        "    x1 = (-b + math.sqrt(delta)) / (2*a)\n",
        "    x2 = (-b - math.sqrt(delta)) / (2*a)\n",
        "    print(\"A equação possui duas raízes reais sendo: x1 = {:.1f} e x2 = {:.1f}\".format(x1, x2))"
      ],
      "metadata": {
        "id": "eK74cFx-6rAw",
        "colab": {
          "base_uri": "https://localhost:8080/"
        },
        "outputId": "90ea6114-eed4-483f-bbce-73ae39d926d0"
      },
      "execution_count": null,
      "outputs": [
        {
          "output_type": "stream",
          "name": "stdout",
          "text": [
            "Digite o coeficiente a: 1\n",
            "Digite o coeficiente b: 2\n",
            "Digite o coeficiente c: 3\n",
            "A equação não possui raízes reais.\n"
          ]
        }
      ]
    },
    {
      "cell_type": "code",
      "source": [],
      "metadata": {
        "id": "Co5lD2wq4aPm"
      },
      "execution_count": null,
      "outputs": []
    }
  ]
}